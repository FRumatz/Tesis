{
 "cells": [
  {
   "cell_type": "code",
   "execution_count": 1,
   "metadata": {},
   "outputs": [],
   "source": [
    "#importar librerias \n",
    "import numpy as np\n",
    "import pandas as pd"
   ]
  },
  {
   "cell_type": "code",
   "execution_count": 2,
   "metadata": {},
   "outputs": [],
   "source": [
    "#importar data set\n",
    "data=pd.read_excel('SA.xlsx') "
   ]
  },
  {
   "cell_type": "code",
   "execution_count": 3,
   "metadata": {},
   "outputs": [],
   "source": [
    "data = data[['text','sentiment']]"
   ]
  },
  {
   "cell_type": "code",
   "execution_count": 4,
   "metadata": {
    "scrolled": true
   },
   "outputs": [],
   "source": [
    "##Limpieza de texto\n",
    "import re \n",
    "def clean_text (df, text_field): \n",
    "    df [text_field] = df [text_field].apply(lambda elem: re.sub(r'https://(?:[a-z]|[0-9]|[$-_@.&amp;+]|[!*\\(\\),]|(?:%[0-9a-f][0-9a-f]))+', ' ', elem ))   \n",
    "    df [text_field] = df [text_field].apply(lambda elem: re.sub(r'publici(?:[a-z]|[0-9]|[$-_@.&amp;+]|[!*\\(\\),]|(?:%[0-9a-f][0-9a-f]))+', 'publicidad', elem))\n",
    "    df [text_field] = df [text_field].apply(lambda elem: re.sub(r'@wom(?:[a-z]|[0-9]|[$-_@.&amp;+]|[!*\\(\\),]|(?:%[0-9a-f][0-9a-f]))+', 'wom', elem ))\n",
    "    df [text_field] = df [text_field].apply(lambda elem: re.sub(r'wom(?:[a-z]|[0-9]|[$-_@.&amp;+]|[!*\\(\\),]|(?:%[0-9a-f][0-9a-f]))+', 'wom', elem))\n",
    "    df [text_field] = df [text_field].apply(lambda elem: re.sub(r'@entel(?:[a-z]|[0-9]|[$-_@.&amp;+]|[!*\\(\\),]|(?:%[0-9a-f][0-9a-f]))+' , 'entel', elem))\n",
    "    df [text_field] = df [text_field].apply(lambda elem: re.sub(r'@movistar(?:[a-z]|[0-9]|[$-_@.&amp;+]|[!*\\(\\),]|(?:%[0-9a-f][0-9a-f]))+', 'movistar', elem))\n",
    "    df [text_field] = df [text_field].str.lower() \n",
    "    df [text_field] = df [text_field].apply(lambda elem: re.sub(r'(?:á)', 'a', elem))\n",
    "    df [text_field] = df [text_field].apply(lambda elem: re.sub(r'(?:é)', 'e', elem))\n",
    "    df [text_field] = df [text_field].apply(lambda elem: re.sub(r'(?:í)', 'i', elem))\n",
    "    df [text_field] = df [text_field].apply(lambda elem: re.sub(r'(?:ó)', 'o', elem))\n",
    "    df [text_field] = df [text_field].apply(lambda elem: re.sub(r'(?:ú)', 'u', elem))\n",
    "    df [text_field] = df [text_field].apply(lambda elem: re.sub(r'(?:ll)', 'yxy', elem))#guardar las ll \n",
    "    df [text_field] = df [text_field].apply(lambda elem: re.sub(r'(?:rr)', 'yxr', elem))#guardar las rr \n",
    "    df [text_field] = df [text_field].apply(lambda elem: re.sub(r'(.)\\1+', r'\\1', elem))#saca letras repetidas\n",
    "    df [text_field] = df [text_field].apply(lambda elem: re.sub(r'(?:yxy)', 'll', elem))#devuelve  la ll\n",
    "    df [text_field] = df [text_field].apply(lambda elem: re.sub(r'(?:yxr)', 'rr', elem))#devuelve  la rr\n",
    "    df [text_field] = df [text_field].apply(lambda elem: re.sub(r'(?:bkn)', 'buena', elem))\n",
    "    df [text_field] = df [text_field].apply(lambda elem: re.sub(r'(?:rt )', ' ', elem))\n",
    "    df [text_field] = df [text_field].apply(lambda elem: re.sub(r'(?: q )', ' que ', elem))\n",
    "    df [text_field] = df [text_field].apply(lambda elem: re.sub(r'(?: k )', ' que ', elem))\n",
    "    df [text_field] = df [text_field].apply(lambda elem: re.sub(r'(?:guena)', ' buena ', elem))\n",
    "    df [text_field] = df [text_field].apply(lambda elem: re.sub(r'(?:wena)', ' buena ', elem))\n",
    "    df [text_field] = df [text_field].apply(lambda elem: re.sub(r'(?:\\\\n)', ' ', elem))\n",
    "    df [text_field] = df [text_field].apply(lambda elem: re.sub(r'jajaja(?:[a-z]|[0-9]|[$-_@.&amp;+]|[!*\\(\\),]|(?:%[0-9a-f][0-9a-f]))+', 'jajaja', elem))\n",
    "    df [text_field] = df [text_field].apply(lambda elem: re.sub(r'ajaja(?:[a-z]|[0-9]|[$-_@.&amp;+]|[!*\\(\\),]|(?:%[0-9a-f][0-9a-f]))+', 'jajaja', elem))\n",
    "    df [text_field] = df [text_field].apply(lambda elem: re.sub(r'(?:[😂,🤣,😅])', ' jajaja ', elem))\n",
    "    df [text_field] = df [text_field].apply(lambda elem: re.sub(r'(?:[😁,😎,😊,😘,🙈,🤭,😋,😄,😆])', ' bien ', elem))\n",
    "    df [text_field] = df [text_field].apply(lambda elem: re.sub(r'(?:[😡,😠,😒,🤬])', ' enojo ', elem))\n",
    "    df [text_field] = df [text_field].apply(lambda elem: re.sub(r'(?:[😭,😢,😪,😞,😔,😫,😌,😩])', ' pena ', elem))\n",
    "    df [text_field] = df [text_field].apply(lambda elem: re.sub(r'(?:[🍄,🤦,🤦,🤦🏼,🤦,😤,😕,💩,😖,🤮,🐌,🖕,😑,💔,👎🏻])', 'pesimo ', elem))\n",
    "    df [text_field] = df [text_field].apply(lambda elem: re.sub(r'(?:[❤️,💓,💕,💜,😍])', ' encanta ', elem))\n",
    "    df [text_field] = df [text_field].apply(lambda elem: re.sub(r'(?:[👏])', ' bravo ', elem))\n",
    "    df [text_field] = df [text_field].apply(lambda elem: re.sub(r'(?:@[\\w_]+)', ' ', elem)) #quita las menciones \n",
    "    df [text_field] = df [text_field].apply(lambda elem: re.sub(r'[^\\w\\ \\s]','', elem)) #quita los emoticones (Deja solo letras y espacios)\n",
    "    df [text_field] = df [text_field].apply(lambda elem: re.sub(r'\\b(\\w+)( \\1\\b)+', r'\\1', elem))#elimina repetidos\n",
    "    return df \n",
    "data=clean_text(data,'text')\n",
    "data=clean_text(data,'text')\n",
    "#quitar neutros \n",
    "dataset = data[data.sentiment != 'Neutro']"
   ]
  },
  {
   "cell_type": "code",
   "execution_count": 5,
   "metadata": {
    "scrolled": true
   },
   "outputs": [],
   "source": [
    "#quitar stop word y realizar steming\n",
    "import nltk\n",
    "from nltk.corpus import stopwords\n",
    "from nltk.classify import SklearnClassifier\n",
    "from wordcloud import WordCloud,STOPWORDS\n",
    "from nltk.stem.snowball import SnowballStemmer\n",
    "stemmer = SnowballStemmer(\"spanish\")\n",
    "corpus=[]\n",
    "for i in range(0,1098):\n",
    "    text=dataset['text'][i]\n",
    "    text=text.split()\n",
    "    text=[stemmer.stem(word) for word in text if not word in set(stopwords.words('spanish'))]\n",
    "    text=' '.join(text)\n",
    "    corpus.append(text) "
   ]
  },
  {
   "cell_type": "code",
   "execution_count": 6,
   "metadata": {},
   "outputs": [],
   "source": [
    "#crear la bolsa de palabras\n",
    "from sklearn.feature_extraction.text import CountVectorizer"
   ]
  },
  {
   "cell_type": "code",
   "execution_count": 7,
   "metadata": {},
   "outputs": [],
   "source": [
    "cv=CountVectorizer() \n",
    "X=cv.fit_transform(corpus).toarray()\n",
    "y=dataset.iloc[:,1].values"
   ]
  },
  {
   "cell_type": "code",
   "execution_count": 8,
   "metadata": {},
   "outputs": [
    {
     "data": {
      "text/plain": [
       "(1098,)"
      ]
     },
     "execution_count": 8,
     "metadata": {},
     "output_type": "execute_result"
    }
   ],
   "source": [
    "y.shape #dimensión de la matriz "
   ]
  },
  {
   "cell_type": "code",
   "execution_count": 9,
   "metadata": {},
   "outputs": [],
   "source": [
    "#SVM LINEALMENTE SEPARABLE\n",
    "# Dividir el data set en conjunto de entrenamiento y conjunto de prueba\n",
    "from sklearn.model_selection import train_test_split\n",
    "X_train, X_test, y_train, y_test = train_test_split(X, y, test_size = 0.2, random_state = 0)\n",
    "\n",
    "# Ajustar el SVM en el Conjunto de Entrenamiento\n",
    "from sklearn.svm import SVC\n",
    "classifier = SVC(kernel = \"linear\", random_state = 0)\n",
    "classifier.fit(X_train, y_train)\n",
    "\n",
    "# Predicción de los resultados con el Conjunto de Prueba\n",
    "y_pred  = classifier.predict(X_test)\n",
    "\n",
    "# Elaborar una matriz de confusión\n",
    "from sklearn.metrics import confusion_matrix\n",
    "cm = confusion_matrix(y_test, y_pred)"
   ]
  },
  {
   "cell_type": "code",
   "execution_count": 10,
   "metadata": {},
   "outputs": [
    {
     "data": {
      "text/plain": [
       "0.8610370950888193"
      ]
     },
     "execution_count": 10,
     "metadata": {},
     "output_type": "execute_result"
    }
   ],
   "source": [
    "# Aplicar Validación cruzada\n",
    "from sklearn.model_selection import cross_val_score\n",
    "accuracies = cross_val_score(estimator = classifier, X = X_train, y = y_train, cv = 10)\n",
    "accuracies.mean()"
   ]
  },
  {
   "cell_type": "code",
   "execution_count": 11,
   "metadata": {},
   "outputs": [
    {
     "data": {
      "text/plain": [
       "0.025386853494288753"
      ]
     },
     "execution_count": 11,
     "metadata": {},
     "output_type": "execute_result"
    }
   ],
   "source": [
    "accuracies.std()"
   ]
  },
  {
   "cell_type": "code",
   "execution_count": 12,
   "metadata": {},
   "outputs": [
    {
     "name": "stdout",
     "output_type": "stream",
     "text": [
      "Evaluación modelo SVM Lineal :\n",
      "\n",
      "              precision    recall  f1-score   support\n",
      "\n",
      "      Bueno        0.66      0.60      0.63        45\n",
      "        Malo       0.90      0.92      0.91       175\n",
      "\n",
      "   micro avg       0.85      0.85      0.85       220\n",
      "   macro avg       0.78      0.76      0.77       220\n",
      "weighted avg       0.85      0.85      0.85       220\n",
      "\n"
     ]
    }
   ],
   "source": [
    "from sklearn.metrics import classification_report\n",
    "print(\"Evaluación modelo SVM Lineal :\\n\")\n",
    "print(classification_report(y_test , y_pred ))"
   ]
  },
  {
   "cell_type": "code",
   "execution_count": 13,
   "metadata": {},
   "outputs": [],
   "source": [
    "#SVM aplicando un kernel gaussiano\n",
    "# Dividir el data set en conjunto de entrenamiento y conjunto de prueba\n",
    "from sklearn.model_selection import train_test_split\n",
    "X_train, X_test, y_train, y_test = train_test_split(X, y, test_size = 0.2, random_state = 0)\n",
    "\n",
    "# Ajustar el clasificador en el Conjunto de Entrenamiento\n",
    "from sklearn.svm import SVC\n",
    "classifier = SVC(kernel = \"rbf\",C=100, gamma='scale', random_state = 0)\n",
    "classifier.fit(X_train, y_train)\n",
    "\n",
    "# Predicción de los resultados con el Conjunto de Prueba\n",
    "y_pred  = classifier.predict(X_test)\n",
    "\n",
    "# Elaborar una matriz de confusión\n",
    "from sklearn.metrics import confusion_matrix\n",
    "cm = confusion_matrix(y_test, y_pred)"
   ]
  },
  {
   "cell_type": "code",
   "execution_count": 14,
   "metadata": {},
   "outputs": [
    {
     "data": {
      "text/plain": [
       "0.881556948798328"
      ]
     },
     "execution_count": 14,
     "metadata": {},
     "output_type": "execute_result"
    }
   ],
   "source": [
    "# Aplicar Validación cruzada\n",
    "from sklearn.model_selection import cross_val_score\n",
    "accuracies = cross_val_score(estimator = classifier, X = X_train, y = y_train, cv = 10)\n",
    "accuracies.mean()"
   ]
  },
  {
   "cell_type": "code",
   "execution_count": 15,
   "metadata": {},
   "outputs": [
    {
     "data": {
      "text/plain": [
       "0.025516917242914963"
      ]
     },
     "execution_count": 15,
     "metadata": {},
     "output_type": "execute_result"
    }
   ],
   "source": [
    "accuracies.std()"
   ]
  },
  {
   "cell_type": "code",
   "execution_count": 16,
   "metadata": {},
   "outputs": [
    {
     "name": "stdout",
     "output_type": "stream",
     "text": [
      "Evaluación modelo SVM kernel gaussiano :\n",
      "\n",
      "              precision    recall  f1-score   support\n",
      "\n",
      "      Bueno        0.69      0.56      0.62        45\n",
      "        Malo       0.89      0.94      0.91       175\n",
      "\n",
      "   micro avg       0.86      0.86      0.86       220\n",
      "   macro avg       0.79      0.75      0.77       220\n",
      "weighted avg       0.85      0.86      0.85       220\n",
      "\n"
     ]
    }
   ],
   "source": [
    "from sklearn.metrics import classification_report\n",
    "print(\"Evaluación modelo SVM kernel gaussiano :\\n\")\n",
    "print(classification_report(y_test , y_pred ))"
   ]
  },
  {
   "cell_type": "code",
   "execution_count": 17,
   "metadata": {},
   "outputs": [],
   "source": [
    "#SVM aplicando un kernel sigmoid\n",
    "# Dividir el data set en conjunto de entrenamiento y conjunto de testing\n",
    "from sklearn.model_selection import train_test_split\n",
    "X_train, X_test, y_train, y_test = train_test_split(X, y, test_size = 0.2, random_state = 0)\n",
    "\n",
    "# Ajustar el clasificador en el Conjunto de Entrenamiento\n",
    "from sklearn.svm import SVC\n",
    "classifier = SVC(kernel = \"sigmoid\",gamma='scale', random_state = 0)\n",
    "classifier.fit(X_train, y_train)\n",
    "\n",
    "# Predicción de los resultados con el Conjunto de Prueba\n",
    "y_pred  = classifier.predict(X_test)\n",
    "\n",
    "# Elaborar una matriz de confusión\n",
    "from sklearn.metrics import confusion_matrix\n",
    "cm = confusion_matrix(y_test, y_pred)"
   ]
  },
  {
   "cell_type": "code",
   "execution_count": 18,
   "metadata": {},
   "outputs": [
    {
     "data": {
      "text/plain": [
       "0.7518286311389758"
      ]
     },
     "execution_count": 18,
     "metadata": {},
     "output_type": "execute_result"
    }
   ],
   "source": [
    "# Aplicar Validación cruzada\n",
    "from sklearn.model_selection import cross_val_score\n",
    "accuracies = cross_val_score(estimator = classifier, X = X_train, y = y_train, cv = 10)\n",
    "accuracies.mean()"
   ]
  },
  {
   "cell_type": "code",
   "execution_count": 19,
   "metadata": {},
   "outputs": [
    {
     "data": {
      "text/plain": [
       "0.042568239209699446"
      ]
     },
     "execution_count": 19,
     "metadata": {},
     "output_type": "execute_result"
    }
   ],
   "source": [
    "accuracies.std()"
   ]
  },
  {
   "cell_type": "code",
   "execution_count": 20,
   "metadata": {},
   "outputs": [
    {
     "name": "stdout",
     "output_type": "stream",
     "text": [
      "Evaluación modelo SVM kernel sigmoid :\n",
      "\n",
      "              precision    recall  f1-score   support\n",
      "\n",
      "      Bueno        0.44      0.27      0.33        45\n",
      "        Malo       0.83      0.91      0.87       175\n",
      "\n",
      "   micro avg       0.78      0.78      0.78       220\n",
      "   macro avg       0.64      0.59      0.60       220\n",
      "weighted avg       0.75      0.78      0.76       220\n",
      "\n"
     ]
    }
   ],
   "source": [
    "from sklearn.metrics import classification_report\n",
    "print(\"Evaluación modelo SVM kernel sigmoid :\\n\")\n",
    "print(classification_report(y_test , y_pred ))"
   ]
  }
 ],
 "metadata": {
  "kernelspec": {
   "display_name": "Python 3",
   "language": "python",
   "name": "python3"
  },
  "language_info": {
   "codemirror_mode": {
    "name": "ipython",
    "version": 3
   },
   "file_extension": ".py",
   "mimetype": "text/x-python",
   "name": "python",
   "nbconvert_exporter": "python",
   "pygments_lexer": "ipython3",
   "version": "3.7.3"
  }
 },
 "nbformat": 4,
 "nbformat_minor": 2
}
