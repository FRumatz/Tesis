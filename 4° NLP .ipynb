{
 "cells": [
  {
   "cell_type": "code",
   "execution_count": 1,
   "metadata": {},
   "outputs": [],
   "source": [
    "#importar librerias \n",
    "import numpy as np\n",
    "import matplotlib.pyplot as plt\n",
    "import pandas as pd"
   ]
  },
  {
   "cell_type": "code",
   "execution_count": 2,
   "metadata": {},
   "outputs": [],
   "source": [
    "#importar dataset\n",
    "data=pd.read_excel('SA.xlsx') "
   ]
  },
  {
   "cell_type": "code",
   "execution_count": 3,
   "metadata": {},
   "outputs": [],
   "source": [
    "data = data[['text','sentiment']]"
   ]
  },
  {
   "cell_type": "code",
   "execution_count": 4,
   "metadata": {
    "scrolled": true
   },
   "outputs": [
    {
     "data": {
      "text/html": [
       "<div>\n",
       "<style scoped>\n",
       "    .dataframe tbody tr th:only-of-type {\n",
       "        vertical-align: middle;\n",
       "    }\n",
       "\n",
       "    .dataframe tbody tr th {\n",
       "        vertical-align: top;\n",
       "    }\n",
       "\n",
       "    .dataframe thead th {\n",
       "        text-align: right;\n",
       "    }\n",
       "</style>\n",
       "<table border=\"1\" class=\"dataframe\">\n",
       "  <thead>\n",
       "    <tr style=\"text-align: right;\">\n",
       "      <th></th>\n",
       "      <th>text</th>\n",
       "      <th>sentiment</th>\n",
       "    </tr>\n",
       "  </thead>\n",
       "  <tbody>\n",
       "    <tr>\n",
       "      <th>0</th>\n",
       "      <td>dia de celebracion encanta muchas gracias a wo...</td>\n",
       "      <td>Bueno</td>\n",
       "    </tr>\n",
       "    <tr>\n",
       "      <th>1</th>\n",
       "      <td>dia de celebracion encanta muchas gracias a wo...</td>\n",
       "      <td>Bueno</td>\n",
       "    </tr>\n",
       "    <tr>\n",
       "      <th>2</th>\n",
       "      <td>entel si jajaja luego te cobran lo que quiere...</td>\n",
       "      <td>Bueno</td>\n",
       "    </tr>\n",
       "    <tr>\n",
       "      <th>3</th>\n",
       "      <td>jajaja aguante wom me porte hace mas de un año...</td>\n",
       "      <td>Bueno</td>\n",
       "    </tr>\n",
       "    <tr>\n",
       "      <th>4</th>\n",
       "      <td>wom funciona perfecto en su red 4gpero cuando ...</td>\n",
       "      <td>Bueno</td>\n",
       "    </tr>\n",
       "    <tr>\n",
       "      <th>5</th>\n",
       "      <td>entel aguante wom no te cortan nunca el servi...</td>\n",
       "      <td>Bueno</td>\n",
       "    </tr>\n",
       "    <tr>\n",
       "      <th>6</th>\n",
       "      <td>cambiense a wom atencion inmediata y cordial ...</td>\n",
       "      <td>Bueno</td>\n",
       "    </tr>\n",
       "    <tr>\n",
       "      <th>7</th>\n",
       "      <td>entel portate a wom yo era movistar y me port...</td>\n",
       "      <td>Bueno</td>\n",
       "    </tr>\n",
       "    <tr>\n",
       "      <th>8</th>\n",
       "      <td>hagame caso y cambiese a wom como yo jajaja q...</td>\n",
       "      <td>Bueno</td>\n",
       "    </tr>\n",
       "    <tr>\n",
       "      <th>9</th>\n",
       "      <td>entel le dije que hiciera eso jajaja es el ce...</td>\n",
       "      <td>Bueno</td>\n",
       "    </tr>\n",
       "  </tbody>\n",
       "</table>\n",
       "</div>"
      ],
      "text/plain": [
       "                                                text sentiment\n",
       "0  dia de celebracion encanta muchas gracias a wo...    Bueno \n",
       "1  dia de celebracion encanta muchas gracias a wo...    Bueno \n",
       "2   entel si jajaja luego te cobran lo que quiere...    Bueno \n",
       "3  jajaja aguante wom me porte hace mas de un año...    Bueno \n",
       "4  wom funciona perfecto en su red 4gpero cuando ...    Bueno \n",
       "5   entel aguante wom no te cortan nunca el servi...    Bueno \n",
       "6   cambiense a wom atencion inmediata y cordial ...    Bueno \n",
       "7   entel portate a wom yo era movistar y me port...    Bueno \n",
       "8   hagame caso y cambiese a wom como yo jajaja q...    Bueno \n",
       "9   entel le dije que hiciera eso jajaja es el ce...    Bueno "
      ]
     },
     "metadata": {},
     "output_type": "display_data"
    }
   ],
   "source": [
    "##Limpieza de texto\n",
    "import re \n",
    "def clean_text (df, text_field): \n",
    "    df [text_field] = df [text_field].apply(lambda elem: re.sub(r'https://(?:[a-z]|[0-9]|[$-_@.&amp;+]|[!*\\(\\),]|(?:%[0-9a-f][0-9a-f]))+', ' ', elem ))   \n",
    "    df [text_field] = df [text_field].apply(lambda elem: re.sub(r'publici(?:[a-z]|[0-9]|[$-_@.&amp;+]|[!*\\(\\),]|(?:%[0-9a-f][0-9a-f]))+', 'publicidad', elem))\n",
    "    df [text_field] = df [text_field].apply(lambda elem: re.sub(r'@wom(?:[a-z]|[0-9]|[$-_@.&amp;+]|[!*\\(\\),]|(?:%[0-9a-f][0-9a-f]))+', 'wom', elem ))\n",
    "    df [text_field] = df [text_field].apply(lambda elem: re.sub(r'wom(?:[a-z]|[0-9]|[$-_@.&amp;+]|[!*\\(\\),]|(?:%[0-9a-f][0-9a-f]))+', 'wom', elem))\n",
    "    df [text_field] = df [text_field].apply(lambda elem: re.sub(r'@entel(?:[a-z]|[0-9]|[$-_@.&amp;+]|[!*\\(\\),]|(?:%[0-9a-f][0-9a-f]))+' , 'entel', elem))\n",
    "    df [text_field] = df [text_field].apply(lambda elem: re.sub(r'@movistar(?:[a-z]|[0-9]|[$-_@.&amp;+]|[!*\\(\\),]|(?:%[0-9a-f][0-9a-f]))+', 'movistar', elem))\n",
    "    df [text_field] = df [text_field].str.lower() \n",
    "    df [text_field] = df [text_field].apply(lambda elem: re.sub(r'(?:á)', 'a', elem))\n",
    "    df [text_field] = df [text_field].apply(lambda elem: re.sub(r'(?:é)', 'e', elem))\n",
    "    df [text_field] = df [text_field].apply(lambda elem: re.sub(r'(?:í)', 'i', elem))\n",
    "    df [text_field] = df [text_field].apply(lambda elem: re.sub(r'(?:ó)', 'o', elem))\n",
    "    df [text_field] = df [text_field].apply(lambda elem: re.sub(r'(?:ú)', 'u', elem))\n",
    "    df [text_field] = df [text_field].apply(lambda elem: re.sub(r'(?:ll)', 'yxy', elem))#guardar las ll \n",
    "    df [text_field] = df [text_field].apply(lambda elem: re.sub(r'(?:rr)', 'yxr', elem))#guardar las rr \n",
    "    df [text_field] = df [text_field].apply(lambda elem: re.sub(r'(.)\\1+', r'\\1', elem))#saca letras repetidas\n",
    "    df [text_field] = df [text_field].apply(lambda elem: re.sub(r'(?:yxy)', 'll', elem))#devuelve  la ll\n",
    "    df [text_field] = df [text_field].apply(lambda elem: re.sub(r'(?:yxr)', 'rr', elem))#devuelve  la rr\n",
    "    df [text_field] = df [text_field].apply(lambda elem: re.sub(r'(?:bkn)', 'buena', elem))\n",
    "    df [text_field] = df [text_field].apply(lambda elem: re.sub(r'(?:rt )', ' ', elem))\n",
    "    df [text_field] = df [text_field].apply(lambda elem: re.sub(r'(?: q )', ' que ', elem))\n",
    "    df [text_field] = df [text_field].apply(lambda elem: re.sub(r'(?: k )', ' que ', elem))\n",
    "    df [text_field] = df [text_field].apply(lambda elem: re.sub(r'(?:guena)', ' buena ', elem))\n",
    "    df [text_field] = df [text_field].apply(lambda elem: re.sub(r'(?:wena)', ' buena ', elem))\n",
    "    df [text_field] = df [text_field].apply(lambda elem: re.sub(r'(?:\\\\n)', ' ', elem))\n",
    "    df [text_field] = df [text_field].apply(lambda elem: re.sub(r'jajaja(?:[a-z]|[0-9]|[$-_@.&amp;+]|[!*\\(\\),]|(?:%[0-9a-f][0-9a-f]))+', 'jajaja', elem))\n",
    "    df [text_field] = df [text_field].apply(lambda elem: re.sub(r'ajaja(?:[a-z]|[0-9]|[$-_@.&amp;+]|[!*\\(\\),]|(?:%[0-9a-f][0-9a-f]))+', 'jajaja', elem))\n",
    "    df [text_field] = df [text_field].apply(lambda elem: re.sub(r'(?:[😂,🤣,😅])', ' jajaja ', elem))\n",
    "    df [text_field] = df [text_field].apply(lambda elem: re.sub(r'(?:[😁,😎,😊,😘,🙈,🤭,😋,😄,😆])', ' bien ', elem))\n",
    "    df [text_field] = df [text_field].apply(lambda elem: re.sub(r'(?:[😡,😠,😒,🤬])', ' enojo ', elem))\n",
    "    df [text_field] = df [text_field].apply(lambda elem: re.sub(r'(?:[😭,😢,😪,😞,😔,😫,😌,😩])', ' pena ', elem))\n",
    "    df [text_field] = df [text_field].apply(lambda elem: re.sub(r'(?:[🍄,🤦,🤦,🤦🏼,🤦,😤,😕,💩,😖,🤮,🐌,🖕,😑,💔,👎🏻])', 'pesimo ', elem))\n",
    "    df [text_field] = df [text_field].apply(lambda elem: re.sub(r'(?:[❤️,💓,💕,💜,😍])', ' encanta ', elem))\n",
    "    df [text_field] = df [text_field].apply(lambda elem: re.sub(r'(?:[👏])', ' bravo ', elem))\n",
    "    df [text_field] = df [text_field].apply(lambda elem: re.sub(r'(?:@[\\w_]+)', ' ', elem)) #quita las menciones \n",
    "    df [text_field] = df [text_field].apply(lambda elem: re.sub(r'[^\\w\\ \\s]','', elem)) #quita los emoticones (Deja solo letras y espacios)\n",
    "    df [text_field] = df [text_field].apply(lambda elem: re.sub(r'\\b(\\w+)( \\1\\b)+', r'\\1', elem))#elimina repetidos\n",
    "    return df \n",
    "data=clean_text(data,'text')\n",
    "#quitar neutros \n",
    "dataset = data[data.sentiment != 'Neutro']\n",
    "display(dataset.head(10))"
   ]
  },
  {
   "cell_type": "code",
   "execution_count": 5,
   "metadata": {
    "scrolled": true
   },
   "outputs": [],
   "source": [
    "#quitar stop word y realizar steming\n",
    "import nltk \n",
    "from nltk.corpus import stopwords\n",
    "from nltk.classify import SklearnClassifier\n",
    "from wordcloud import WordCloud,STOPWORDS\n",
    "from nltk.stem.snowball import SnowballStemmer\n",
    "stemmer = SnowballStemmer(\"spanish\")\n",
    "corpus=[]\n",
    "for i in range(0,1098):\n",
    "    text=dataset['text'][i]\n",
    "    text=text.split()\n",
    "    text=[stemmer.stem(word) for word in text if not word in set(stopwords.words('spanish'))]\n",
    "    text=' '.join(text)\n",
    "    corpus.append(text) "
   ]
  },
  {
   "cell_type": "code",
   "execution_count": 6,
   "metadata": {},
   "outputs": [
    {
     "name": "stdout",
     "output_type": "stream",
     "text": [
      "['dia celebracion encant much graci wom gran regalit insideteaconectioncl ric desayun campeon tremend oportun mentor lalemez', 'dia celebracion encant much graci wom gran regalit insideteaconectioncl ric desayun campeon tremend oportun mentor lalemez', 'entel si jajaj lueg cobr quier cambi wom nl mas dram inclus mas gig mism plat', 'jajaj aguant wom port hac mas año nunc cobr adicional letr chic buen trabaj felicit empres piens client', 'wom funcion perfect red 4gper pas roaming mism jajaj 0 navegacion linea5']\n"
     ]
    }
   ],
   "source": [
    "print(corpus[:5])"
   ]
  }
 ],
 "metadata": {
  "kernelspec": {
   "display_name": "Python 3",
   "language": "python",
   "name": "python3"
  },
  "language_info": {
   "codemirror_mode": {
    "name": "ipython",
    "version": 3
   },
   "file_extension": ".py",
   "mimetype": "text/x-python",
   "name": "python",
   "nbconvert_exporter": "python",
   "pygments_lexer": "ipython3",
   "version": "3.7.3"
  }
 },
 "nbformat": 4,
 "nbformat_minor": 2
}
