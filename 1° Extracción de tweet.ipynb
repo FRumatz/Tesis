{
 "cells": [
  {
   "cell_type": "code",
   "execution_count": 1,
   "metadata": {},
   "outputs": [],
   "source": [
    "import tweepy  #Para conectarse a la API\n",
    "import pandas as pd     # Para análisis de datos\n",
    "import numpy as np      # Para cálculo numérico"
   ]
  },
  {
   "cell_type": "code",
   "execution_count": 2,
   "metadata": {},
   "outputs": [],
   "source": [
    " #Se define las variables para el acceso al API de twitter (se omite una parte por seguridad) \n",
    "consumer_key ='Qbug2SkTPHvG4yV7_________'\n", 
    "consumer_secret = 'zokEd23fc718ffRiGnu0mkKDxHygSrI0aGfj8AGq_________'\n",
    "access_token = '303552846-PkmTQxOaKSabie4nd9SLQfIG2d4A7Uw_________'\n",
    "access_token_secret ='cFDgfMGAwrD1fQPMbVuMhJpXnCveMXAoTHz_________'"
   ]
  },
  {
   "cell_type": "code",
   "execution_count": 3,
   "metadata": {},
   "outputs": [],
   "source": [
    "#Se autentica en twitter\n",
    "def twitter_setup():\n",
    "    auth = tweepy.OAuthHandler(consumer_key, consumer_secret)\n",
    "    auth.set_access_token(access_token, access_token_secret)\n",
    "    api = tweepy.API(auth)\n",
    "    return api"
   ]
  },
  {
   "cell_type": "code",
   "execution_count": 4,
   "metadata": {},
   "outputs": [],
   "source": [
    "# Creamos un objeto extractor:\n",
    "extractor = twitter_setup()"
   ]
  },
  {
   "cell_type": "code",
   "execution_count": 5,
   "metadata": {},
   "outputs": [
    {
     "name": "stdout",
     "output_type": "stream",
     "text": [
      "Francisca Rumatz\n"
     ]
    }
   ],
   "source": [
    " #se verifica que el usuario conectado\n",
    "print(extractor.me().name)"
   ]
  },
  {
   "cell_type": "code",
   "execution_count": 6,
   "metadata": {},
   "outputs": [
    {
     "name": "stdout",
     "output_type": "stream",
     "text": [
      "Número de tweets extraidos: 100.\n",
      "\n"
     ]
    }
   ],
   "source": [
    "# Creamos una lista de tweets: para extraer desde una búsqueda\n",
    "tweets = extractor.search(q='womchile',lang='es' ,count=100,since_id='1140937221987586048', tweet_mode='extended')\n",
    "print(\"Número de tweets extraidos: {}.\\n\".format(len(tweets)))"
   ]
  },
  {
   "cell_type": "code",
   "execution_count": 7,
   "metadata": {},
   "outputs": [
    {
     "name": "stdout",
     "output_type": "stream",
     "text": [
      "5 tweets más recientes:\n",
      "\n",
      "Alguien de @womchile me puede decir que es ésta publicidad no deseada? Es parte de su política de \"buena marca\"? No me gusta para nada y no sé cómo eliminarla! https://t.co/TSEr1zgfLA\n",
      "\n",
      "@magdalopezc @womchile Aparte esa cosa de los gb ilimitados uno nunca sabe cuánto le llegan, venden la mula y capaz que llegue solo el mínimo cuak\n",
      "\n",
      "@magdalopezc @garayabustos @womchile Ojo tenía problemas pero me cambiaron la sim y todo solucionado, pídele a tu amigo que te preste el celu instalas la sim y descartas\n",
      "\n",
      "@Carc_7 @womchile Me pasa lo mismo!\n",
      "\n",
      "@magdalopezc @womchile Yo me cambié hace unos días aquí en Santiago era un asco 🤢 tenía el mejor plan y nada siempre se le iba la señal con cuea cargaba una foto jojojo\n",
      "\n"
     ]
    }
   ],
   "source": [
    "print(\"5 tweets más recientes:\\n\")\n",
    "for tweet in tweets[:5]:\n",
    "    print(tweet.full_text)\n",
    "    print()"
   ]
  },
  {
   "cell_type": "code",
   "execution_count": 8,
   "metadata": {},
   "outputs": [],
   "source": [
    "# Creamos una dataframe de pandas:\n",
    "data = pd.DataFrame(data=[tweet.full_text for tweet in tweets], columns=['Tweets'])"
   ]
  },
  {
   "cell_type": "code",
   "execution_count": 9,
   "metadata": {},
   "outputs": [
    {
     "data": {
      "text/html": [
       "<div>\n",
       "<style scoped>\n",
       "    .dataframe tbody tr th:only-of-type {\n",
       "        vertical-align: middle;\n",
       "    }\n",
       "\n",
       "    .dataframe tbody tr th {\n",
       "        vertical-align: top;\n",
       "    }\n",
       "\n",
       "    .dataframe thead th {\n",
       "        text-align: right;\n",
       "    }\n",
       "</style>\n",
       "<table border=\"1\" class=\"dataframe\">\n",
       "  <thead>\n",
       "    <tr style=\"text-align: right;\">\n",
       "      <th></th>\n",
       "      <th>Tweets</th>\n",
       "    </tr>\n",
       "  </thead>\n",
       "  <tbody>\n",
       "    <tr>\n",
       "      <th>0</th>\n",
       "      <td>Alguien de @womchile me puede decir que es ést...</td>\n",
       "    </tr>\n",
       "    <tr>\n",
       "      <th>1</th>\n",
       "      <td>@magdalopezc @womchile Aparte esa cosa de los ...</td>\n",
       "    </tr>\n",
       "    <tr>\n",
       "      <th>2</th>\n",
       "      <td>@magdalopezc @garayabustos @womchile Ojo tenía...</td>\n",
       "    </tr>\n",
       "    <tr>\n",
       "      <th>3</th>\n",
       "      <td>@Carc_7 @womchile Me pasa lo mismo!</td>\n",
       "    </tr>\n",
       "    <tr>\n",
       "      <th>4</th>\n",
       "      <td>@magdalopezc @womchile Yo me cambié hace unos ...</td>\n",
       "    </tr>\n",
       "    <tr>\n",
       "      <th>5</th>\n",
       "      <td>RT @magdalopezc: Oigan @womchile, cuánto es lo...</td>\n",
       "    </tr>\n",
       "    <tr>\n",
       "      <th>6</th>\n",
       "      <td>@womchile La raja la publicidad,  pero la seña...</td>\n",
       "    </tr>\n",
       "    <tr>\n",
       "      <th>7</th>\n",
       "      <td>@magdalopezc @womchile Yo me salí de wom hace ...</td>\n",
       "    </tr>\n",
       "    <tr>\n",
       "      <th>8</th>\n",
       "      <td>@magdalopezc @womchile He tenido varios aparat...</td>\n",
       "    </tr>\n",
       "    <tr>\n",
       "      <th>9</th>\n",
       "      <td>@magdalopezc @garayabustos @womchile No cualqu...</td>\n",
       "    </tr>\n",
       "  </tbody>\n",
       "</table>\n",
       "</div>"
      ],
      "text/plain": [
       "                                              Tweets\n",
       "0  Alguien de @womchile me puede decir que es ést...\n",
       "1  @magdalopezc @womchile Aparte esa cosa de los ...\n",
       "2  @magdalopezc @garayabustos @womchile Ojo tenía...\n",
       "3                @Carc_7 @womchile Me pasa lo mismo!\n",
       "4  @magdalopezc @womchile Yo me cambié hace unos ...\n",
       "5  RT @magdalopezc: Oigan @womchile, cuánto es lo...\n",
       "6  @womchile La raja la publicidad,  pero la seña...\n",
       "7  @magdalopezc @womchile Yo me salí de wom hace ...\n",
       "8  @magdalopezc @womchile He tenido varios aparat...\n",
       "9  @magdalopezc @garayabustos @womchile No cualqu..."
      ]
     },
     "metadata": {},
     "output_type": "display_data"
    }
   ],
   "source": [
    "# Dibujamos los 10 primeros elementos del dataframe:\n",
    "display(data.head(10))"
   ]
  },
  {
   "cell_type": "code",
   "execution_count": 10,
   "metadata": {},
   "outputs": [
    {
     "name": "stdout",
     "output_type": "stream",
     "text": [
      "['__class__', '__delattr__', '__dict__', '__dir__', '__doc__', '__eq__', '__format__', '__ge__', '__getattribute__', '__getstate__', '__gt__', '__hash__', '__init__', '__init_subclass__', '__le__', '__lt__', '__module__', '__ne__', '__new__', '__reduce__', '__reduce_ex__', '__repr__', '__setattr__', '__sizeof__', '__str__', '__subclasshook__', '__weakref__', '_api', '_json', 'author', 'contributors', 'coordinates', 'created_at', 'destroy', 'display_text_range', 'entities', 'extended_entities', 'favorite', 'favorite_count', 'favorited', 'full_text', 'geo', 'id', 'id_str', 'in_reply_to_screen_name', 'in_reply_to_status_id', 'in_reply_to_status_id_str', 'in_reply_to_user_id', 'in_reply_to_user_id_str', 'is_quote_status', 'lang', 'metadata', 'parse', 'parse_list', 'place', 'possibly_sensitive', 'retweet', 'retweet_count', 'retweeted', 'retweets', 'source', 'source_url', 'truncated', 'user']\n"
     ]
    }
   ],
   "source": [
    "# Métodos internos de un objeto tweet:\n",
    "print(dir(tweets[0]))"
   ]
  },
  {
   "cell_type": "code",
   "execution_count": 11,
   "metadata": {},
   "outputs": [
    {
     "name": "stdout",
     "output_type": "stream",
     "text": [
      "1175405852716687360\n",
      "2019-09-21 13:46:07\n",
      "Twitter Web App\n",
      "0\n",
      "0\n",
      "None\n",
      "None\n",
      "{'hashtags': [], 'symbols': [], 'user_mentions': [{'screen_name': 'womchile', 'name': 'WOM', 'id': 3251660537, 'id_str': '3251660537', 'indices': [11, 20]}], 'urls': [], 'media': [{'id': 1175405846097997824, 'id_str': '1175405846097997824', 'indices': [160, 183], 'media_url': 'http://pbs.twimg.com/media/EE_hY7OWsAAolMO.jpg', 'media_url_https': 'https://pbs.twimg.com/media/EE_hY7OWsAAolMO.jpg', 'url': 'https://t.co/TSEr1zgfLA', 'display_url': 'pic.twitter.com/TSEr1zgfLA', 'expanded_url': 'https://twitter.com/OlavaRock/status/1175405852716687360/photo/1', 'type': 'photo', 'sizes': {'small': {'w': 383, 'h': 680, 'resize': 'fit'}, 'thumb': {'w': 150, 'h': 150, 'resize': 'crop'}, 'medium': {'w': 675, 'h': 1200, 'resize': 'fit'}, 'large': {'w': 720, 'h': 1280, 'resize': 'fit'}}}]}\n",
      "Alguien de @womchile me puede decir que es ésta publicidad no deseada? Es parte de su política de \"buena marca\"? No me gusta para nada y no sé cómo eliminarla! https://t.co/TSEr1zgfLA\n"
     ]
    }
   ],
   "source": [
    "# Imprimimos la información del primer tweet:\n",
    "print(tweets[0].id)\n",
    "print(tweets[0].created_at)\n",
    "print(tweets[0].source)\n",
    "print(tweets[0].favorite_count)\n",
    "print(tweets[0].retweet_count)\n",
    "print(tweets[0].geo)\n",
    "print(tweets[0].coordinates)\n",
    "print(tweets[0].entities)\n",
    "print(tweets[0].full_text)"
   ]
  },
  {
   "cell_type": "code",
   "execution_count": 12,
   "metadata": {},
   "outputs": [],
   "source": [
    "data['longitud']  = np.array([len(tweet.full_text) for tweet in tweets])\n",
    "data['ID']   = np.array([tweet.id for tweet in tweets])\n",
    "data['Fecha'] = np.array([tweet.created_at for tweet in tweets])\n",
    "data['Fuente'] = np.array([tweet.source for tweet in tweets])\n",
    "data['Geo']  = np.array([tweet.geo for tweet in tweets])\n",
    "data['Coordinates']    = np.array([tweet.coordinates for tweet in tweets])\n",
    "data['Likes']  = np.array([tweet.favorite_count for tweet in tweets])\n",
    "data['RTs']    = np.array([tweet.retweet_count for tweet in tweets])"
   ]
  },
  {
   "cell_type": "code",
   "execution_count": 13,
   "metadata": {},
   "outputs": [
    {
     "data": {
      "text/html": [
       "<div>\n",
       "<style scoped>\n",
       "    .dataframe tbody tr th:only-of-type {\n",
       "        vertical-align: middle;\n",
       "    }\n",
       "\n",
       "    .dataframe tbody tr th {\n",
       "        vertical-align: top;\n",
       "    }\n",
       "\n",
       "    .dataframe thead th {\n",
       "        text-align: right;\n",
       "    }\n",
       "</style>\n",
       "<table border=\"1\" class=\"dataframe\">\n",
       "  <thead>\n",
       "    <tr style=\"text-align: right;\">\n",
       "      <th></th>\n",
       "      <th>Tweets</th>\n",
       "      <th>longitud</th>\n",
       "      <th>ID</th>\n",
       "      <th>Fecha</th>\n",
       "      <th>Fuente</th>\n",
       "      <th>Geo</th>\n",
       "      <th>Coordinates</th>\n",
       "      <th>Likes</th>\n",
       "      <th>RTs</th>\n",
       "    </tr>\n",
       "  </thead>\n",
       "  <tbody>\n",
       "    <tr>\n",
       "      <th>0</th>\n",
       "      <td>Alguien de @womchile me puede decir que es ést...</td>\n",
       "      <td>183</td>\n",
       "      <td>1175405852716687360</td>\n",
       "      <td>2019-09-21 13:46:07</td>\n",
       "      <td>Twitter Web App</td>\n",
       "      <td>None</td>\n",
       "      <td>None</td>\n",
       "      <td>0</td>\n",
       "      <td>0</td>\n",
       "    </tr>\n",
       "    <tr>\n",
       "      <th>1</th>\n",
       "      <td>@magdalopezc @womchile Aparte esa cosa de los ...</td>\n",
       "      <td>146</td>\n",
       "      <td>1175393361949286400</td>\n",
       "      <td>2019-09-21 12:56:29</td>\n",
       "      <td>Twitter for iPhone</td>\n",
       "      <td>None</td>\n",
       "      <td>None</td>\n",
       "      <td>0</td>\n",
       "      <td>0</td>\n",
       "    </tr>\n",
       "    <tr>\n",
       "      <th>2</th>\n",
       "      <td>@magdalopezc @garayabustos @womchile Ojo tenía...</td>\n",
       "      <td>169</td>\n",
       "      <td>1175392876420849665</td>\n",
       "      <td>2019-09-21 12:54:34</td>\n",
       "      <td>Twitter for Android</td>\n",
       "      <td>None</td>\n",
       "      <td>None</td>\n",
       "      <td>0</td>\n",
       "      <td>0</td>\n",
       "    </tr>\n",
       "    <tr>\n",
       "      <th>3</th>\n",
       "      <td>@Carc_7 @womchile Me pasa lo mismo!</td>\n",
       "      <td>35</td>\n",
       "      <td>1175387373787648001</td>\n",
       "      <td>2019-09-21 12:32:42</td>\n",
       "      <td>Twitter for iPhone</td>\n",
       "      <td>None</td>\n",
       "      <td>None</td>\n",
       "      <td>1</td>\n",
       "      <td>0</td>\n",
       "    </tr>\n",
       "    <tr>\n",
       "      <th>4</th>\n",
       "      <td>@magdalopezc @womchile Yo me cambié hace unos ...</td>\n",
       "      <td>168</td>\n",
       "      <td>1175375999145562112</td>\n",
       "      <td>2019-09-21 11:47:30</td>\n",
       "      <td>Twitter for iPhone</td>\n",
       "      <td>None</td>\n",
       "      <td>None</td>\n",
       "      <td>1</td>\n",
       "      <td>0</td>\n",
       "    </tr>\n",
       "    <tr>\n",
       "      <th>5</th>\n",
       "      <td>RT @magdalopezc: Oigan @womchile, cuánto es lo...</td>\n",
       "      <td>140</td>\n",
       "      <td>1175361465924169729</td>\n",
       "      <td>2019-09-21 10:49:45</td>\n",
       "      <td>Twitter for iPhone</td>\n",
       "      <td>None</td>\n",
       "      <td>None</td>\n",
       "      <td>0</td>\n",
       "      <td>2</td>\n",
       "    </tr>\n",
       "    <tr>\n",
       "      <th>6</th>\n",
       "      <td>@womchile La raja la publicidad,  pero la seña...</td>\n",
       "      <td>122</td>\n",
       "      <td>1175269665595121665</td>\n",
       "      <td>2019-09-21 04:44:58</td>\n",
       "      <td>Twitter for Android</td>\n",
       "      <td>None</td>\n",
       "      <td>None</td>\n",
       "      <td>0</td>\n",
       "      <td>0</td>\n",
       "    </tr>\n",
       "    <tr>\n",
       "      <th>7</th>\n",
       "      <td>@magdalopezc @womchile Yo me salí de wom hace ...</td>\n",
       "      <td>144</td>\n",
       "      <td>1175247846561521664</td>\n",
       "      <td>2019-09-21 03:18:16</td>\n",
       "      <td>Twitter for Android</td>\n",
       "      <td>None</td>\n",
       "      <td>None</td>\n",
       "      <td>0</td>\n",
       "      <td>0</td>\n",
       "    </tr>\n",
       "    <tr>\n",
       "      <th>8</th>\n",
       "      <td>@magdalopezc @womchile He tenido varios aparat...</td>\n",
       "      <td>126</td>\n",
       "      <td>1175245249683345408</td>\n",
       "      <td>2019-09-21 03:07:57</td>\n",
       "      <td>Twitter for Android</td>\n",
       "      <td>None</td>\n",
       "      <td>None</td>\n",
       "      <td>0</td>\n",
       "      <td>0</td>\n",
       "    </tr>\n",
       "    <tr>\n",
       "      <th>9</th>\n",
       "      <td>@magdalopezc @garayabustos @womchile No cualqu...</td>\n",
       "      <td>157</td>\n",
       "      <td>1175244231809601537</td>\n",
       "      <td>2019-09-21 03:03:54</td>\n",
       "      <td>Twitter for Android</td>\n",
       "      <td>None</td>\n",
       "      <td>None</td>\n",
       "      <td>0</td>\n",
       "      <td>0</td>\n",
       "    </tr>\n",
       "  </tbody>\n",
       "</table>\n",
       "</div>"
      ],
      "text/plain": [
       "                                              Tweets  longitud  \\\n",
       "0  Alguien de @womchile me puede decir que es ést...       183   \n",
       "1  @magdalopezc @womchile Aparte esa cosa de los ...       146   \n",
       "2  @magdalopezc @garayabustos @womchile Ojo tenía...       169   \n",
       "3                @Carc_7 @womchile Me pasa lo mismo!        35   \n",
       "4  @magdalopezc @womchile Yo me cambié hace unos ...       168   \n",
       "5  RT @magdalopezc: Oigan @womchile, cuánto es lo...       140   \n",
       "6  @womchile La raja la publicidad,  pero la seña...       122   \n",
       "7  @magdalopezc @womchile Yo me salí de wom hace ...       144   \n",
       "8  @magdalopezc @womchile He tenido varios aparat...       126   \n",
       "9  @magdalopezc @garayabustos @womchile No cualqu...       157   \n",
       "\n",
       "                    ID               Fecha               Fuente   Geo  \\\n",
       "0  1175405852716687360 2019-09-21 13:46:07      Twitter Web App  None   \n",
       "1  1175393361949286400 2019-09-21 12:56:29   Twitter for iPhone  None   \n",
       "2  1175392876420849665 2019-09-21 12:54:34  Twitter for Android  None   \n",
       "3  1175387373787648001 2019-09-21 12:32:42   Twitter for iPhone  None   \n",
       "4  1175375999145562112 2019-09-21 11:47:30   Twitter for iPhone  None   \n",
       "5  1175361465924169729 2019-09-21 10:49:45   Twitter for iPhone  None   \n",
       "6  1175269665595121665 2019-09-21 04:44:58  Twitter for Android  None   \n",
       "7  1175247846561521664 2019-09-21 03:18:16  Twitter for Android  None   \n",
       "8  1175245249683345408 2019-09-21 03:07:57  Twitter for Android  None   \n",
       "9  1175244231809601537 2019-09-21 03:03:54  Twitter for Android  None   \n",
       "\n",
       "  Coordinates  Likes  RTs  \n",
       "0        None      0    0  \n",
       "1        None      0    0  \n",
       "2        None      0    0  \n",
       "3        None      1    0  \n",
       "4        None      1    0  \n",
       "5        None      0    2  \n",
       "6        None      0    0  \n",
       "7        None      0    0  \n",
       "8        None      0    0  \n",
       "9        None      0    0  "
      ]
     },
     "metadata": {},
     "output_type": "display_data"
    }
   ],
   "source": [
    "# Mostramos los 10 primeros elementos del dataframe:\n",
    "display(data.head(10))"
   ]
  },
  {
   "cell_type": "code",
   "execution_count": 14,
   "metadata": {},
   "outputs": [],
   "source": [
    "#Exportar datos a Excel\n",
    "data.to_excel(\"data.xlsx\")"
   ]
  }
 ],
 "metadata": {
  "kernelspec": {
   "display_name": "Python 3",
   "language": "python",
   "name": "python3"
  },
  "language_info": {
   "codemirror_mode": {
    "name": "ipython",
    "version": 3
   },
   "file_extension": ".py",
   "mimetype": "text/x-python",
   "name": "python",
   "nbconvert_exporter": "python",
   "pygments_lexer": "ipython3",
   "version": "3.7.3"
  }
 },
 "nbformat": 4,
 "nbformat_minor": 2
}
